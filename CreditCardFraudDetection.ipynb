{
  "nbformat": 4,
  "nbformat_minor": 0,
  "metadata": {
    "colab": {
      "provenance": []
    },
    "kernelspec": {
      "name": "python3",
      "display_name": "Python 3"
    },
    "language_info": {
      "name": "python"
    }
  },
  "cells": [
    {
      "cell_type": "code",
      "execution_count": null,
      "metadata": {
        "id": "GaEKQgFJcvgC",
        "colab": {
          "base_uri": "https://localhost:8080/"
        },
        "outputId": "3d3fc88f-0a91-4f30-f847-c2391a3010a0"
      },
      "outputs": [
        {
          "output_type": "stream",
          "name": "stdout",
          "text": [
            "Drive already mounted at /content/drive; to attempt to forcibly remount, call drive.mount(\"/content/drive\", force_remount=True).\n"
          ]
        }
      ],
      "source": [
        "# Import necessary libraries\n",
        "import pandas as pd\n",
        "import numpy as np\n",
        "from sklearn.model_selection import train_test_split\n",
        "from sklearn.preprocessing import StandardScaler\n",
        "from sklearn.metrics import confusion_matrix, accuracy_score, precision_score, recall_score, f1_score, roc_auc_score\n",
        "from sklearn.ensemble import RandomForestClassifier, GradientBoostingClassifier, AdaBoostClassifier\n",
        "from sklearn.linear_model import LogisticRegression\n",
        "from sklearn.tree import DecisionTreeClassifier\n",
        "from sklearn.svm import SVC\n",
        "from sklearn.neighbors import KNeighborsClassifier\n",
        "from sklearn.naive_bayes import GaussianNB\n",
        "from sklearn.neural_network import MLPClassifier\n",
        "from xgboost import XGBClassifier\n",
        "from imblearn.over_sampling import SMOTE\n",
        "import matplotlib.pyplot as plt\n",
        "import seaborn as sns\n",
        "from sklearn.ensemble import AdaBoostClassifier\n",
        "\n",
        "from google.colab import drive\n",
        "import pandas as pd\n",
        "\n",
        "drive.mount('/content/drive')"
      ]
    },
    {
      "cell_type": "code",
      "source": [
        "# Load the dataset\n",
        "file_path = '/content/drive/My Drive/Colab Notebooks/creditcard.csv'\n",
        "df = pd.read_csv(file_path)"
      ],
      "metadata": {
        "id": "KZIrqZ5xt6xB"
      },
      "execution_count": null,
      "outputs": []
    },
    {
      "cell_type": "code",
      "source": [
        "# Data Preprocessing\n",
        "# Scale the 'Amount' and 'Time' features\n",
        "scaler = StandardScaler()\n",
        "df['Amount'] = scaler.fit_transform(df[['Amount']])\n",
        "df['Time'] = scaler.fit_transform(df[['Time']])\n",
        "\n",
        "# Split the data into features and target\n",
        "X = df.drop(columns=['Class'])\n",
        "y = df['Class']\n"
      ],
      "metadata": {
        "id": "L4WTEKGSt-dg"
      },
      "execution_count": null,
      "outputs": []
    },
    {
      "cell_type": "code",
      "source": [
        "# Initial train-test split\n",
        "X_train, X_test, y_train, y_test = train_test_split(X, y, test_size=0.2, stratify=y, random_state=42)\n",
        "\n",
        "# Balance the dataset using SMOTE\n",
        "sm = SMOTE(random_state=42)\n",
        "X_train_balanced, y_train_balanced = sm.fit_resample(X_train, y_train)"
      ],
      "metadata": {
        "id": "E_KPBlVJuE3I"
      },
      "execution_count": null,
      "outputs": []
    },
    {
      "cell_type": "code",
      "source": [
        "# Define models for comparison\n",
        "models = {\n",
        "    \"Logistic Regression\": LogisticRegression(max_iter=500, random_state=42),\n",
        "    \"Decision Tree\": DecisionTreeClassifier(max_depth=5, random_state=42),\n",
        "    \"Naive Bayes\": GaussianNB(),\n",
        "    \"XGBoost\": XGBClassifier(n_estimators=10, max_depth=3, random_state=42),\n",
        "    \"Neural Network\": MLPClassifier(hidden_layer_sizes=(50,), max_iter=500, random_state=42),\n",
        "    \"Adaboost\": AdaBoostClassifier(n_estimators=10, algorithm=\"SAMME\", random_state=42),\n",
        "    \"Random Forest\": RandomForestClassifier(n_estimators=10, max_depth=7, random_state=42),\n",
        "    \"Gradient Boosting\": GradientBoostingClassifier(n_estimators=10, max_depth=3, random_state=42),\n",
        "}\n"
      ],
      "metadata": {
        "id": "RiBijsYSuIoM"
      },
      "execution_count": null,
      "outputs": []
    },
    {
      "cell_type": "code",
      "source": [
        "# Initialize a DataFrame to store results\n",
        "results_df = pd.DataFrame(columns=[\n",
        "    \"Classifier Name\", \"Training or Test Set\", \"Balanced or Unbalanced Train Set\",\n",
        "    \"Number of Training Samples\", \"Number of Fraud Samples\",\n",
        "    \"True Positives (TP)\", \"True Negatives (TN)\", \"False Positives (FP)\", \"False Negatives (FN)\",\n",
        "    \"Accuracy\", \"Precision\", \"Recall\", \"F1 Score\", \"ROC AUC\"\n",
        "])"
      ],
      "metadata": {
        "id": "3WU0w5ScuMG7"
      },
      "execution_count": null,
      "outputs": []
    },
    {
      "cell_type": "code",
      "source": [
        "# Define evaluation function\n",
        "def evaluate_model(name, model, X_train, X_test, y_train, y_test, balanced=\"Unbalanced\"):\n",
        "    # Train the model\n",
        "    model.fit(X_train, y_train)\n",
        "\n",
        "    # Initialize metrics storage for both train and test sets\n",
        "    for X, y, set_type in [(X_train, y_train, \"Train\"), (X_test, y_test, \"Test\")]:\n",
        "        # Predictions and probabilities\n",
        "        y_pred = model.predict(X)\n",
        "        y_prob = model.predict_proba(X)[:, 1] if hasattr(model, \"predict_proba\") else None\n",
        "\n",
        "        # Confusion Matrix\n",
        "        tn, fp, fn, tp = confusion_matrix(y, y_pred).ravel()\n",
        "\n",
        "        # Performance Metrics\n",
        "        accuracy = accuracy_score(y, y_pred)\n",
        "        precision = precision_score(y, y_pred)\n",
        "        recall = recall_score(y, y_pred)\n",
        "        f1 = f1_score(y, y_pred)\n",
        "        roc_auc = roc_auc_score(y, y_prob) if y_prob is not None else None\n",
        "\n",
        "        # Append results to DataFrame\n",
        "        results_df.loc[len(results_df)] = [\n",
        "            name, set_type, balanced, len(y), y.sum(), tp, tn, fp, fn,\n",
        "            round(accuracy, 2), round(precision, 2), round(recall, 2),\n",
        "            round(f1, 2), round(roc_auc, 2) if roc_auc else \"N/A\"\n",
        "        ]"
      ],
      "metadata": {
        "id": "xuvteVYGuOgg"
      },
      "execution_count": null,
      "outputs": []
    },
    {
      "cell_type": "code",
      "source": [
        "# Evaluate each model on unbalanced and balanced training sets\n",
        "for model_name, model in models.items():\n",
        "    # Unbalanced training set\n",
        "    evaluate_model(model_name, model, X_train, X_test, y_train, y_test, balanced=\"Unbalanced\")\n",
        "\n",
        "    # Balanced training set\n",
        "    evaluate_model(model_name, model, X_train_balanced, X_test, y_train_balanced, y_test, balanced=\"Balanced\")\n"
      ],
      "metadata": {
        "id": "ZoiBMnOs7Yoy"
      },
      "execution_count": null,
      "outputs": []
    },
    {
      "cell_type": "code",
      "source": [
        "# Save the results to a CSV file\n",
        "results_df.to_csv(\"balancedDataOutcomes.csv\", index=False)\n",
        "print(\"Results saved to balancedDataOutcomes.csv\")"
      ],
      "metadata": {
        "id": "bNI6vzzeb1ta"
      },
      "execution_count": null,
      "outputs": []
    }
  ]
}
